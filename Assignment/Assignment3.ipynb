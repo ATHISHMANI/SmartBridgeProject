{
 "cells": [
  {
   "cell_type": "code",
   "execution_count": 1,
   "id": "d550b2fe",
   "metadata": {},
   "outputs": [],
   "source": [
    "import pandas as pd\n",
    "import numpy as np"
   ]
  },
  {
   "cell_type": "code",
   "execution_count": 2,
   "id": "fb274b12",
   "metadata": {},
   "outputs": [],
   "source": [
    "#2. Load the dataset into the tool.\n",
    "data=pd.read_csv('Housing.csv')"
   ]
  },
  {
   "cell_type": "code",
   "execution_count": 3,
   "id": "43bac394",
   "metadata": {},
   "outputs": [
    {
     "data": {
      "text/html": [
       "<div>\n",
       "<style scoped>\n",
       "    .dataframe tbody tr th:only-of-type {\n",
       "        vertical-align: middle;\n",
       "    }\n",
       "\n",
       "    .dataframe tbody tr th {\n",
       "        vertical-align: top;\n",
       "    }\n",
       "\n",
       "    .dataframe thead th {\n",
       "        text-align: right;\n",
       "    }\n",
       "</style>\n",
       "<table border=\"1\" class=\"dataframe\">\n",
       "  <thead>\n",
       "    <tr style=\"text-align: right;\">\n",
       "      <th></th>\n",
       "      <th>price</th>\n",
       "      <th>area</th>\n",
       "      <th>bedrooms</th>\n",
       "      <th>bathrooms</th>\n",
       "      <th>stories</th>\n",
       "      <th>mainroad</th>\n",
       "      <th>guestroom</th>\n",
       "      <th>basement</th>\n",
       "      <th>hotwaterheating</th>\n",
       "      <th>airconditioning</th>\n",
       "      <th>parking</th>\n",
       "      <th>furnishingstatus</th>\n",
       "    </tr>\n",
       "  </thead>\n",
       "  <tbody>\n",
       "    <tr>\n",
       "      <th>0</th>\n",
       "      <td>13300000</td>\n",
       "      <td>7420</td>\n",
       "      <td>4</td>\n",
       "      <td>2</td>\n",
       "      <td>3</td>\n",
       "      <td>yes</td>\n",
       "      <td>no</td>\n",
       "      <td>no</td>\n",
       "      <td>no</td>\n",
       "      <td>yes</td>\n",
       "      <td>2</td>\n",
       "      <td>furnished</td>\n",
       "    </tr>\n",
       "    <tr>\n",
       "      <th>1</th>\n",
       "      <td>12250000</td>\n",
       "      <td>8960</td>\n",
       "      <td>4</td>\n",
       "      <td>4</td>\n",
       "      <td>4</td>\n",
       "      <td>yes</td>\n",
       "      <td>no</td>\n",
       "      <td>no</td>\n",
       "      <td>no</td>\n",
       "      <td>yes</td>\n",
       "      <td>3</td>\n",
       "      <td>furnished</td>\n",
       "    </tr>\n",
       "    <tr>\n",
       "      <th>2</th>\n",
       "      <td>12250000</td>\n",
       "      <td>9960</td>\n",
       "      <td>3</td>\n",
       "      <td>2</td>\n",
       "      <td>2</td>\n",
       "      <td>yes</td>\n",
       "      <td>no</td>\n",
       "      <td>yes</td>\n",
       "      <td>no</td>\n",
       "      <td>no</td>\n",
       "      <td>2</td>\n",
       "      <td>semi-furnished</td>\n",
       "    </tr>\n",
       "    <tr>\n",
       "      <th>3</th>\n",
       "      <td>12215000</td>\n",
       "      <td>7500</td>\n",
       "      <td>4</td>\n",
       "      <td>2</td>\n",
       "      <td>2</td>\n",
       "      <td>yes</td>\n",
       "      <td>no</td>\n",
       "      <td>yes</td>\n",
       "      <td>no</td>\n",
       "      <td>yes</td>\n",
       "      <td>3</td>\n",
       "      <td>furnished</td>\n",
       "    </tr>\n",
       "    <tr>\n",
       "      <th>4</th>\n",
       "      <td>11410000</td>\n",
       "      <td>7420</td>\n",
       "      <td>4</td>\n",
       "      <td>1</td>\n",
       "      <td>2</td>\n",
       "      <td>yes</td>\n",
       "      <td>yes</td>\n",
       "      <td>yes</td>\n",
       "      <td>no</td>\n",
       "      <td>yes</td>\n",
       "      <td>2</td>\n",
       "      <td>furnished</td>\n",
       "    </tr>\n",
       "  </tbody>\n",
       "</table>\n",
       "</div>"
      ],
      "text/plain": [
       "      price  area  bedrooms  bathrooms  stories mainroad guestroom basement  \\\n",
       "0  13300000  7420         4          2        3      yes        no       no   \n",
       "1  12250000  8960         4          4        4      yes        no       no   \n",
       "2  12250000  9960         3          2        2      yes        no      yes   \n",
       "3  12215000  7500         4          2        2      yes        no      yes   \n",
       "4  11410000  7420         4          1        2      yes       yes      yes   \n",
       "\n",
       "  hotwaterheating airconditioning  parking furnishingstatus  \n",
       "0              no             yes        2        furnished  \n",
       "1              no             yes        3        furnished  \n",
       "2              no              no        2   semi-furnished  \n",
       "3              no             yes        3        furnished  \n",
       "4              no             yes        2        furnished  "
      ]
     },
     "execution_count": 3,
     "metadata": {},
     "output_type": "execute_result"
    }
   ],
   "source": [
    "data.head()"
   ]
  },
  {
   "cell_type": "code",
   "execution_count": 4,
   "id": "a318fdcf",
   "metadata": {},
   "outputs": [
    {
     "data": {
      "image/png": "[encoded data removed]",
      "text/plain": [
       "<Figure size 720x432 with 1 Axes>"
      ]
     },
     "metadata": {
      "needs_background": "light"
     },
     "output_type": "display_data"
    }
   ],
   "source": [
    "# Univariate Analysis\n",
    "import matplotlib.pyplot as plt\n",
    "import seaborn as sns\n",
    "\n",
    "plt.figure(figsize=(10, 6))\n",
    "sns.histplot(data['price'], kde=True)\n",
    "plt.title('Distribution of Price')\n",
    "plt.xlabel('Price')\n",
    "plt.ylabel('Count')\n",
    "plt.show()"
   ]
  },
  {
   "cell_type": "code",
   "execution_count": 5,
   "id": "8eded6e6",
   "metadata": {},
   "outputs": [
    {
     "data": {
      "image/png": "[encoded data removed]",
      "text/plain": [
       "<Figure size 720x432 with 1 Axes>"
      ]
     },
     "metadata": {
      "needs_background": "light"
     },
     "output_type": "display_data"
    }
   ],
   "source": [
    "# Bivariate Visualisation\n",
    "plt.figure(figsize=(10, 6))\n",
    "sns.scatterplot(x='area', y='price', data=data)\n",
    "plt.title('Area vs. Price')\n",
    "plt.xlabel('Area')\n",
    "plt.ylabel('Price')\n",
    "plt.show()\n"
   ]
  },
  {
   "cell_type": "code",
   "execution_count": 6,
   "id": "40044699",
   "metadata": {},
   "outputs": [
    {
     "data": {
      "text/plain": [
       "<Figure size 720x432 with 0 Axes>"
      ]
     },
     "metadata": {},
     "output_type": "display_data"
    },
    {
     "data": {
      "image/png": "[encoded data removed]",
      "text/plain": [
       "<Figure size 720x720 with 20 Axes>"
      ]
     },
     "metadata": {
      "needs_background": "light"
     },
     "output_type": "display_data"
    }
   ],
   "source": [
    "# Multi-Variate Analysis\n",
    "# Example visualization\n",
    "plt.figure(figsize=(10, 6))\n",
    "sns.pairplot(data, vars=['area', 'bedrooms', 'bathrooms', 'price'])\n",
    "plt.title('Multi-Variate Analysis')\n",
    "plt.show()\n"
   ]
  },
  {
   "cell_type": "code",
   "execution_count": 7,
   "id": "5d9d27fb",
   "metadata": {},
   "outputs": [
    {
     "name": "stdout",
     "output_type": "stream",
     "text": [
      "              price          area    bedrooms   bathrooms     stories  \\\n",
      "count  5.450000e+02    545.000000  545.000000  545.000000  545.000000   \n",
      "mean   4.766729e+06   5150.541284    2.965138    1.286239    1.805505   \n",
      "std    1.870440e+06   2170.141023    0.738064    0.502470    0.867492   \n",
      "min    1.750000e+06   1650.000000    1.000000    1.000000    1.000000   \n",
      "25%    3.430000e+06   3600.000000    2.000000    1.000000    1.000000   \n",
      "50%    4.340000e+06   4600.000000    3.000000    1.000000    2.000000   \n",
      "75%    5.740000e+06   6360.000000    3.000000    2.000000    2.000000   \n",
      "max    1.330000e+07  16200.000000    6.000000    4.000000    4.000000   \n",
      "\n",
      "          parking  \n",
      "count  545.000000  \n",
      "mean     0.693578  \n",
      "std      0.861586  \n",
      "min      0.000000  \n",
      "25%      0.000000  \n",
      "50%      0.000000  \n",
      "75%      1.000000  \n",
      "max      3.000000  \n"
     ]
    }
   ],
   "source": [
    "# Perform descriptive statistics on the dataset\n",
    "statistics = data.describe()\n",
    "print(statistics)"
   ]
  },
  {
   "cell_type": "code",
   "execution_count": 8,
   "id": "364dca57",
   "metadata": {},
   "outputs": [
    {
     "data": {
      "text/plain": [
       "price               0\n",
       "area                0\n",
       "bedrooms            0\n",
       "bathrooms           0\n",
       "stories             0\n",
       "mainroad            0\n",
       "guestroom           0\n",
       "basement            0\n",
       "hotwaterheating     0\n",
       "airconditioning     0\n",
       "parking             0\n",
       "furnishingstatus    0\n",
       "dtype: int64"
      ]
     },
     "execution_count": 8,
     "metadata": {},
     "output_type": "execute_result"
    }
   ],
   "source": [
    "# Check for Missing values and deal with them.\n",
    "\n",
    "# Check for missing values\n",
    "missing_values = data.isnull().sum()\n",
    "missing_values"
   ]
  },
  {
   "cell_type": "code",
   "execution_count": 9,
   "id": "e653ee42",
   "metadata": {},
   "outputs": [
    {
     "name": "stdout",
     "output_type": "stream",
     "text": [
      "      price  area  bedrooms  bathrooms  stories mainroad guestroom basement  \\\n",
      "0  13300000  7420         4          2        3      yes        no       no   \n",
      "1  12250000  8960         4          4        4      yes        no       no   \n",
      "2  12250000  9960         3          2        2      yes        no      yes   \n",
      "3  12215000  7500         4          2        2      yes        no      yes   \n",
      "4  11410000  7420         4          1        2      yes       yes      yes   \n",
      "5  10850000  7500         3          3        1      yes        no      yes   \n",
      "\n",
      "  hotwaterheating airconditioning  parking furnishingstatus  \n",
      "0              no             yes        2        furnished  \n",
      "1              no             yes        3        furnished  \n",
      "2              no              no        2   semi-furnished  \n",
      "3              no             yes        3        furnished  \n",
      "4              no             yes        2        furnished  \n",
      "5              no             yes        2   semi-furnished  \n"
     ]
    }
   ],
   "source": [
    "# Find the outliers and replace them outliers\n",
    "from scipy import stats\n",
    "\n",
    "# Find outliers using z-score\n",
    "z_scores = stats.zscore(data['price'])\n",
    "threshold = 3\n",
    "outliers = data[(z_scores > threshold) | (z_scores < -threshold)]\n",
    "print(outliers)\n",
    "\n",
    "median = data['price'].median()\n",
    "data['price'] = np.where((z_scores > threshold) | (z_scores < -threshold), median, data['price'])\n"
   ]
  },
  {
   "cell_type": "code",
   "execution_count": 34,
   "id": "43de5c18",
   "metadata": {},
   "outputs": [
    {
     "data": {
      "text/html": [
       "<div>\n",
       "<style scoped>\n",
       "    .dataframe tbody tr th:only-of-type {\n",
       "        vertical-align: middle;\n",
       "    }\n",
       "\n",
       "    .dataframe tbody tr th {\n",
       "        vertical-align: top;\n",
       "    }\n",
       "\n",
       "    .dataframe thead th {\n",
       "        text-align: right;\n",
       "    }\n",
       "</style>\n",
       "<table border=\"1\" class=\"dataframe\">\n",
       "  <thead>\n",
       "    <tr style=\"text-align: right;\">\n",
       "      <th></th>\n",
       "      <th>price</th>\n",
       "      <th>area</th>\n",
       "      <th>bedrooms</th>\n",
       "      <th>bathrooms</th>\n",
       "      <th>stories</th>\n",
       "      <th>parking</th>\n",
       "      <th>furnishingstatus_furnished</th>\n",
       "      <th>furnishingstatus_semi-furnished</th>\n",
       "      <th>furnishingstatus_unfurnished</th>\n",
       "      <th>mainroad_no</th>\n",
       "      <th>mainroad_yes</th>\n",
       "      <th>guestroom_no</th>\n",
       "      <th>guestroom_yes</th>\n",
       "      <th>basement_no</th>\n",
       "      <th>basement_yes</th>\n",
       "      <th>hotwaterheating_no</th>\n",
       "      <th>hotwaterheating_yes</th>\n",
       "      <th>airconditioning_no</th>\n",
       "      <th>airconditioning_yes</th>\n",
       "    </tr>\n",
       "  </thead>\n",
       "  <tbody>\n",
       "    <tr>\n",
       "      <th>0</th>\n",
       "      <td>4340000.0</td>\n",
       "      <td>7420</td>\n",
       "      <td>4</td>\n",
       "      <td>2</td>\n",
       "      <td>3</td>\n",
       "      <td>2</td>\n",
       "      <td>1</td>\n",
       "      <td>0</td>\n",
       "      <td>0</td>\n",
       "      <td>0</td>\n",
       "      <td>1</td>\n",
       "      <td>1</td>\n",
       "      <td>0</td>\n",
       "      <td>1</td>\n",
       "      <td>0</td>\n",
       "      <td>1</td>\n",
       "      <td>0</td>\n",
       "      <td>0</td>\n",
       "      <td>1</td>\n",
       "    </tr>\n",
       "    <tr>\n",
       "      <th>1</th>\n",
       "      <td>4340000.0</td>\n",
       "      <td>8960</td>\n",
       "      <td>4</td>\n",
       "      <td>4</td>\n",
       "      <td>4</td>\n",
       "      <td>3</td>\n",
       "      <td>1</td>\n",
       "      <td>0</td>\n",
       "      <td>0</td>\n",
       "      <td>0</td>\n",
       "      <td>1</td>\n",
       "      <td>1</td>\n",
       "      <td>0</td>\n",
       "      <td>1</td>\n",
       "      <td>0</td>\n",
       "      <td>1</td>\n",
       "      <td>0</td>\n",
       "      <td>0</td>\n",
       "      <td>1</td>\n",
       "    </tr>\n",
       "    <tr>\n",
       "      <th>2</th>\n",
       "      <td>4340000.0</td>\n",
       "      <td>9960</td>\n",
       "      <td>3</td>\n",
       "      <td>2</td>\n",
       "      <td>2</td>\n",
       "      <td>2</td>\n",
       "      <td>0</td>\n",
       "      <td>1</td>\n",
       "      <td>0</td>\n",
       "      <td>0</td>\n",
       "      <td>1</td>\n",
       "      <td>1</td>\n",
       "      <td>0</td>\n",
       "      <td>0</td>\n",
       "      <td>1</td>\n",
       "      <td>1</td>\n",
       "      <td>0</td>\n",
       "      <td>1</td>\n",
       "      <td>0</td>\n",
       "    </tr>\n",
       "    <tr>\n",
       "      <th>3</th>\n",
       "      <td>4340000.0</td>\n",
       "      <td>7500</td>\n",
       "      <td>4</td>\n",
       "      <td>2</td>\n",
       "      <td>2</td>\n",
       "      <td>3</td>\n",
       "      <td>1</td>\n",
       "      <td>0</td>\n",
       "      <td>0</td>\n",
       "      <td>0</td>\n",
       "      <td>1</td>\n",
       "      <td>1</td>\n",
       "      <td>0</td>\n",
       "      <td>0</td>\n",
       "      <td>1</td>\n",
       "      <td>1</td>\n",
       "      <td>0</td>\n",
       "      <td>0</td>\n",
       "      <td>1</td>\n",
       "    </tr>\n",
       "    <tr>\n",
       "      <th>4</th>\n",
       "      <td>4340000.0</td>\n",
       "      <td>7420</td>\n",
       "      <td>4</td>\n",
       "      <td>1</td>\n",
       "      <td>2</td>\n",
       "      <td>2</td>\n",
       "      <td>1</td>\n",
       "      <td>0</td>\n",
       "      <td>0</td>\n",
       "      <td>0</td>\n",
       "      <td>1</td>\n",
       "      <td>0</td>\n",
       "      <td>1</td>\n",
       "      <td>0</td>\n",
       "      <td>1</td>\n",
       "      <td>1</td>\n",
       "      <td>0</td>\n",
       "      <td>0</td>\n",
       "      <td>1</td>\n",
       "    </tr>\n",
       "    <tr>\n",
       "      <th>...</th>\n",
       "      <td>...</td>\n",
       "      <td>...</td>\n",
       "      <td>...</td>\n",
       "      <td>...</td>\n",
       "      <td>...</td>\n",
       "      <td>...</td>\n",
       "      <td>...</td>\n",
       "      <td>...</td>\n",
       "      <td>...</td>\n",
       "      <td>...</td>\n",
       "      <td>...</td>\n",
       "      <td>...</td>\n",
       "      <td>...</td>\n",
       "      <td>...</td>\n",
       "      <td>...</td>\n",
       "      <td>...</td>\n",
       "      <td>...</td>\n",
       "      <td>...</td>\n",
       "      <td>...</td>\n",
       "    </tr>\n",
       "    <tr>\n",
       "      <th>540</th>\n",
       "      <td>1820000.0</td>\n",
       "      <td>3000</td>\n",
       "      <td>2</td>\n",
       "      <td>1</td>\n",
       "      <td>1</td>\n",
       "      <td>2</td>\n",
       "      <td>0</td>\n",
       "      <td>0</td>\n",
       "      <td>1</td>\n",
       "      <td>0</td>\n",
       "      <td>1</td>\n",
       "      <td>1</td>\n",
       "      <td>0</td>\n",
       "      <td>0</td>\n",
       "      <td>1</td>\n",
       "      <td>1</td>\n",
       "      <td>0</td>\n",
       "      <td>1</td>\n",
       "      <td>0</td>\n",
       "    </tr>\n",
       "    <tr>\n",
       "      <th>541</th>\n",
       "      <td>1767150.0</td>\n",
       "      <td>2400</td>\n",
       "      <td>3</td>\n",
       "      <td>1</td>\n",
       "      <td>1</td>\n",
       "      <td>0</td>\n",
       "      <td>0</td>\n",
       "      <td>1</td>\n",
       "      <td>0</td>\n",
       "      <td>1</td>\n",
       "      <td>0</td>\n",
       "      <td>1</td>\n",
       "      <td>0</td>\n",
       "      <td>1</td>\n",
       "      <td>0</td>\n",
       "      <td>1</td>\n",
       "      <td>0</td>\n",
       "      <td>1</td>\n",
       "      <td>0</td>\n",
       "    </tr>\n",
       "    <tr>\n",
       "      <th>542</th>\n",
       "      <td>1750000.0</td>\n",
       "      <td>3620</td>\n",
       "      <td>2</td>\n",
       "      <td>1</td>\n",
       "      <td>1</td>\n",
       "      <td>0</td>\n",
       "      <td>0</td>\n",
       "      <td>0</td>\n",
       "      <td>1</td>\n",
       "      <td>0</td>\n",
       "      <td>1</td>\n",
       "      <td>1</td>\n",
       "      <td>0</td>\n",
       "      <td>1</td>\n",
       "      <td>0</td>\n",
       "      <td>1</td>\n",
       "      <td>0</td>\n",
       "      <td>1</td>\n",
       "      <td>0</td>\n",
       "    </tr>\n",
       "    <tr>\n",
       "      <th>543</th>\n",
       "      <td>1750000.0</td>\n",
       "      <td>2910</td>\n",
       "      <td>3</td>\n",
       "      <td>1</td>\n",
       "      <td>1</td>\n",
       "      <td>0</td>\n",
       "      <td>1</td>\n",
       "      <td>0</td>\n",
       "      <td>0</td>\n",
       "      <td>1</td>\n",
       "      <td>0</td>\n",
       "      <td>1</td>\n",
       "      <td>0</td>\n",
       "      <td>1</td>\n",
       "      <td>0</td>\n",
       "      <td>1</td>\n",
       "      <td>0</td>\n",
       "      <td>1</td>\n",
       "      <td>0</td>\n",
       "    </tr>\n",
       "    <tr>\n",
       "      <th>544</th>\n",
       "      <td>1750000.0</td>\n",
       "      <td>3850</td>\n",
       "      <td>3</td>\n",
       "      <td>1</td>\n",
       "      <td>2</td>\n",
       "      <td>0</td>\n",
       "      <td>0</td>\n",
       "      <td>0</td>\n",
       "      <td>1</td>\n",
       "      <td>0</td>\n",
       "      <td>1</td>\n",
       "      <td>1</td>\n",
       "      <td>0</td>\n",
       "      <td>1</td>\n",
       "      <td>0</td>\n",
       "      <td>1</td>\n",
       "      <td>0</td>\n",
       "      <td>1</td>\n",
       "      <td>0</td>\n",
       "    </tr>\n",
       "  </tbody>\n",
       "</table>\n",
       "<p>545 rows × 19 columns</p>\n",
       "</div>"
      ],
      "text/plain": [
       "         price  area  bedrooms  bathrooms  stories  parking  \\\n",
       "0    4340000.0  7420         4          2        3        2   \n",
       "1    4340000.0  8960         4          4        4        3   \n",
       "2    4340000.0  9960         3          2        2        2   \n",
       "3    4340000.0  7500         4          2        2        3   \n",
       "4    4340000.0  7420         4          1        2        2   \n",
       "..         ...   ...       ...        ...      ...      ...   \n",
       "540  1820000.0  3000         2          1        1        2   \n",
       "541  1767150.0  2400         3          1        1        0   \n",
       "542  1750000.0  3620         2          1        1        0   \n",
       "543  1750000.0  2910         3          1        1        0   \n",
       "544  1750000.0  3850         3          1        2        0   \n",
       "\n",
       "     furnishingstatus_furnished  furnishingstatus_semi-furnished  \\\n",
       "0                             1                                0   \n",
       "1                             1                                0   \n",
       "2                             0                                1   \n",
       "3                             1                                0   \n",
       "4                             1                                0   \n",
       "..                          ...                              ...   \n",
       "540                           0                                0   \n",
       "541                           0                                1   \n",
       "542                           0                                0   \n",
       "543                           1                                0   \n",
       "544                           0                                0   \n",
       "\n",
       "     furnishingstatus_unfurnished  mainroad_no  mainroad_yes  guestroom_no  \\\n",
       "0                               0            0             1             1   \n",
       "1                               0            0             1             1   \n",
       "2                               0            0             1             1   \n",
       "3                               0            0             1             1   \n",
       "4                               0            0             1             0   \n",
       "..                            ...          ...           ...           ...   \n",
       "540                             1            0             1             1   \n",
       "541                             0            1             0             1   \n",
       "542                             1            0             1             1   \n",
       "543                             0            1             0             1   \n",
       "544                             1            0             1             1   \n",
       "\n",
       "     guestroom_yes  basement_no  basement_yes  hotwaterheating_no  \\\n",
       "0                0            1             0                   1   \n",
       "1                0            1             0                   1   \n",
       "2                0            0             1                   1   \n",
       "3                0            0             1                   1   \n",
       "4                1            0             1                   1   \n",
       "..             ...          ...           ...                 ...   \n",
       "540              0            0             1                   1   \n",
       "541              0            1             0                   1   \n",
       "542              0            1             0                   1   \n",
       "543              0            1             0                   1   \n",
       "544              0            1             0                   1   \n",
       "\n",
       "     hotwaterheating_yes  airconditioning_no  airconditioning_yes  \n",
       "0                      0                   0                    1  \n",
       "1                      0                   0                    1  \n",
       "2                      0                   1                    0  \n",
       "3                      0                   0                    1  \n",
       "4                      0                   0                    1  \n",
       "..                   ...                 ...                  ...  \n",
       "540                    0                   1                    0  \n",
       "541                    0                   1                    0  \n",
       "542                    0                   1                    0  \n",
       "543                    0                   1                    0  \n",
       "544                    0                   1                    0  \n",
       "\n",
       "[545 rows x 19 columns]"
      ]
     },
     "execution_count": 34,
     "metadata": {},
     "output_type": "execute_result"
    }
   ],
   "source": [
    "# Check for Categorical columns and perform encoding\n",
    "from sklearn.preprocessing import StandardScaler, LabelEncoder\n",
    "\n",
    "categorical_cols = ['furnishingstatus','mainroad','guestroom','basement','hotwaterheating','airconditioning']\n",
    "\n",
    "# Encode categorical columns\n",
    "encoded_data = pd.get_dummies(data, columns=categorical_cols)\n",
    "\n",
    "encoded_data"
   ]
  },
  {
   "cell_type": "code",
   "execution_count": 35,
   "id": "bbcea5aa",
   "metadata": {},
   "outputs": [],
   "source": [
    "# Split the data into dependent and independent variables. \n",
    "X = encoded_data.drop('price', axis=1)\n",
    "y = encoded_data['price'] "
   ]
  },
  {
   "cell_type": "code",
   "execution_count": 36,
   "id": "6360dc77",
   "metadata": {},
   "outputs": [],
   "source": [
    "# Scale the independent variables\n",
    "from sklearn.preprocessing import StandardScaler\n",
    "\n",
    "scaler = StandardScaler()\n",
    "X_scaled = scaler.fit_transform(X)"
   ]
  },
  {
   "cell_type": "code",
   "execution_count": 37,
   "id": "3406bfa5",
   "metadata": {},
   "outputs": [],
   "source": [
    "# Split the data into training and testing\n",
    "from sklearn.model_selection import train_test_split\n",
    "X_train, X_test, y_train, y_test = train_test_split(X_scaled, y, test_size=0.2, random_state=42)"
   ]
  },
  {
   "cell_type": "code",
   "execution_count": 42,
   "id": "0aeec7cc",
   "metadata": {},
   "outputs": [
    {
     "data": {
      "text/plain": [
       "(436,)"
      ]
     },
     "execution_count": 42,
     "metadata": {},
     "output_type": "execute_result"
    }
   ],
   "source": [
    "y_train.shape"
   ]
  },
  {
   "cell_type": "code",
   "execution_count": 44,
   "id": "8eb17aa8",
   "metadata": {},
   "outputs": [
    {
     "data": {
      "text/plain": [
       "(436, 18)"
      ]
     },
     "execution_count": 44,
     "metadata": {},
     "output_type": "execute_result"
    }
   ],
   "source": [
    "X_train.shape"
   ]
  },
  {
   "cell_type": "code",
   "execution_count": 45,
   "id": "3ff59922",
   "metadata": {},
   "outputs": [],
   "source": [
    "# Build the logistic regression model\n",
    "from sklearn.linear_model import LogisticRegression\n",
    "model = LogisticRegression()"
   ]
  },
  {
   "cell_type": "code",
   "execution_count": 46,
   "id": "bf9973fc",
   "metadata": {},
   "outputs": [
    {
     "data": {
      "text/plain": [
       "LogisticRegression()"
      ]
     },
     "execution_count": 46,
     "metadata": {},
     "output_type": "execute_result"
    }
   ],
   "source": [
    "# Train the model\n",
    "model.fit(X_train, y_train)"
   ]
  },
  {
   "cell_type": "code",
   "execution_count": 47,
   "id": "d6505e24",
   "metadata": {},
   "outputs": [],
   "source": [
    "# Test the model\n",
    "y_pred = model.predict(X_test)"
   ]
  },
  {
   "cell_type": "code",
   "execution_count": 48,
   "id": "6626033e",
   "metadata": {},
   "outputs": [
    {
     "data": {
      "text/plain": [
       "array([4200000., 6510000., 3850000., 4900000., 3290000., 3500000.,\n",
       "       7070000., 5460000., 2940000., 2940000., 7700000., 3430000.,\n",
       "       3115000., 3990000., 3430000., 4200000., 3640000., 2653000.,\n",
       "       4795000., 3605000., 5810000., 4900000., 3430000., 4620000.,\n",
       "       5803000., 6300000., 2450000., 3885000., 4760000., 3780000.,\n",
       "       3640000., 3430000., 5460000., 3500000., 3500000., 4095000.,\n",
       "       4620000., 6160000., 3115000., 3885000., 3500000., 2653000.,\n",
       "       6510000., 4480000., 3500000., 2653000., 7560000., 3500000.,\n",
       "       3500000., 3150000., 7700000., 3430000., 4270000., 3990000.,\n",
       "       4200000., 2940000., 7420000., 3430000., 3500000., 3430000.,\n",
       "       3150000., 2940000., 4760000., 4760000., 3500000., 4025000.,\n",
       "       5950000., 3430000., 7700000., 3920000., 4200000., 4515000.,\n",
       "       4270000., 6930000., 2653000., 9240000., 4060000., 4095000.,\n",
       "       7070000., 3115000., 4340000., 4403000., 4340000., 4795000.,\n",
       "       3430000., 5390000., 3430000., 3500000., 4340000., 4970000.,\n",
       "       4200000., 5040000., 3675000., 4200000., 4340000., 5460000.,\n",
       "       5460000., 7420000., 3500000., 5950000., 4060000., 4340000.,\n",
       "       4515000., 4970000., 8400000., 3773000., 7560000., 6195000.,\n",
       "       4340000.])"
      ]
     },
     "execution_count": 48,
     "metadata": {},
     "output_type": "execute_result"
    }
   ],
   "source": [
    "y_pred"
   ]
  },
  {
   "cell_type": "code",
   "execution_count": 55,
   "id": "f89da275",
   "metadata": {},
   "outputs": [
    {
     "data": {
      "text/plain": [
       "array([ 7560000.,  6300000.,  3395000.,  3430000.,  3500000.,  4900000.,\n",
       "        3500000.,  2940000.,  2940000.,  3500000.,  3703000.,  3500000.,\n",
       "        4480000.,  3640000.,  4473000.,  5383000.,  2660000.,  5250000.,\n",
       "        2940000.,  6790000.,  4340000.,  3850000.,  5810000.,  6090000.,\n",
       "        5600000.,  3500000.,  2940000.,  3500000.,  5285000.,  3255000.,\n",
       "        3850000.,  2275000.,  3570000.,  4900000.,  3430000.,  3500000.,\n",
       "        2940000.,  8855000.,  4200000.,  7343000.,  5250000.,  4305000.,\n",
       "        2450000.,  3850000.,  2450000.,  2835000.,  4795000.,  4340000.,\n",
       "        3570000.,  7700000.,  3500000.,  3150000.,  4340000.,  3500000.,\n",
       "        4200000.,  6475000.,  3710000.,  5285000.,  6300000.,  5950000.,\n",
       "        4760000.,  4200000.,  4900000.,  7245000.,  4620000.,  8575000.,\n",
       "        8960000.,  3500000.,  6930000.,  4613000.,  4620000.,  3850000.,\n",
       "        3465000.,  7700000.,  5215000.,  5040000.,  4515000.,  8645000.,\n",
       "        3780000.,  3850000.,  2450000.,  6300000.,  6020000.,  7560000.,\n",
       "        3150000.,  4098500.,  9100000.,  7455000.,  4900000.,  3500000.,\n",
       "        4340000.,  4900000.,  5250000.,  7140000.,  4970000.,  3430000.,\n",
       "        5229000.,  3675000.,  3430000.,  4893000.,  6300000.,  6790000.,\n",
       "        8463000., 10150000.,  5040000.,  7700000.,  6107500.,  7980000.,\n",
       "        5495000.,  2450000.,  5950000.,  3430000.,  6020000.,  3430000.,\n",
       "        3500000.,  6090000.,  3605000.,  3500000.,  5565000.,  5005000.,\n",
       "        2450000.,  4200000.,  4543000.,  6020000.,  3395000.,  2653000.,\n",
       "        5652500.,  6475000.,  6895000.,  4473000.,  4760000.,  5950000.,\n",
       "        2653000.,  3290000.,  3500000.,  3500000.,  4620000.,  3640000.,\n",
       "        6090000.,  2653000.,  4515000.,  6195000.,  5460000.,  3780000.,\n",
       "        3150000.,  3500000.,  4277000.,  3500000.,  3675000.,  5460000.,\n",
       "        3920000.,  6650000.,  3500000.,  4550000.,  4900000.,  3500000.,\n",
       "        4620000.,  3500000.,  3500000.,  4200000.,  2940000.,  3710000.,\n",
       "        3570000.,  4900000.,  8043000.,  3920000.,  3780000.,  4025000.,\n",
       "        6195000.,  4760000.,  4025000.,  6160000.,  4620000.,  3500000.,\n",
       "        4620000.,  3500000.,  3500000.,  7962500.,  3773000.,  4900000.,\n",
       "        3430000.,  4305000.,  3150000.,  4200000.,  4480000.,  4480000.,\n",
       "        5950000.,  3675000.,  5950000.,  5600000.,  4480000.,  4060000.,\n",
       "        4900000.,  4200000.,  2940000.,  4305000.,  4893000.,  3500000.,\n",
       "        3150000.,  3850000.,  3850000.,  4900000.,  3430000.,  3500000.,\n",
       "        3640000.,  4480000.,  5943000.,  4270000.,  5950000.,  4200000.,\n",
       "        4795000.,  5873000.,  3500000.,  4007500.,  2940000.,  3430000.,\n",
       "        3500000.,  2940000.,  5460000.,  4200000.,  3675000.,  3675000.,\n",
       "        3255000.,  6083000.,  4200000.,  3815000.,  4340000.,  3640000.,\n",
       "        3780000.,  5565000.,  3150000.,  4620000.,  3430000.,  3500000.,\n",
       "        5390000.,  4200000.,  5740000.,  4956000.,  3500000.,  3570000.,\n",
       "        4900000.,  3920000.,  3780000.,  4760000.,  3115000.,  3850000.,\n",
       "        3430000.,  7420000.,  3430000.,  5460000.,  3430000.,  3850000.,\n",
       "        4795000.,  3500000.,  3675000.,  5810000.,  3430000.,  7560000.,\n",
       "        5250000.,  6930000.,  3290000.,  6510000.,  4473000.,  5110000.,\n",
       "        3500000.,  5460000.,  5250000.,  8080940.,  8400000.,  5950000.,\n",
       "        5250000.,  3430000.,  3500000.,  3850000.,  7350000.,  5810000.,\n",
       "        3500000.,  3500000.,  3850000.,  5040000.,  5229000.,  2940000.,\n",
       "        7560000.,  3500000.,  3500000.,  4900000.,  3850000.,  3990000.,\n",
       "        3850000.,  4270000.,  5565000.,  3675000.,  9870000.,  4480000.,\n",
       "        2590000.,  6230000.,  5810000.,  3500000.,  4893000.,  2940000.,\n",
       "        3500000.,  7420000.,  4200000.,  3500000.,  4900000.,  3500000.,\n",
       "        7490000.,  8295000.,  3500000.,  4900000.,  4900000.,  2940000.,\n",
       "        3500000.,  2835000.,  4515000.,  4473000.,  3640000.,  6160000.,\n",
       "        5740000.,  5460000.,  3640000.,  2940000.,  5810000.,  8295000.,\n",
       "        7420000.,  5873000.,  2275000.,  9870000.,  3990000.,  3850000.,\n",
       "        7000000.,  4515000.,  4690000.,  4900000.,  5950000.,  3500000.,\n",
       "        4900000.,  3500000.,  3500000.,  3150000.,  3675000.,  3500000.,\n",
       "        2835000.,  3430000.,  4620000.,  4900000.,  4893000.,  4200000.,\n",
       "        3500000.,  3640000.,  1960000.,  3129000.,  3430000.,  3570000.,\n",
       "        3780000.,  3500000.,  3675000.,  4900000.,  5460000.,  7700000.,\n",
       "        4480000.,  3500000.,  4480000.,  4900000.,  4760000.,  5810000.,\n",
       "        7350000.,  3500000.,  4340000.,  2940000.,  3500000.,  5250000.,\n",
       "        4200000.,  6629000.,  4900000.,  8120000.,  3115000.,  4200000.,\n",
       "        3570000.,  2653000.,  2940000.,  3675000.,  6020000.,  3570000.,\n",
       "        3430000.,  7210000.,  3640000.,  3150000.,  3500000.,  4340000.,\n",
       "        4900000.,  6020000.,  4900000.,  4480000.,  5320000.,  3990000.,\n",
       "        2940000.,  5803000.,  3500000.,  2940000.,  2240000.,  2653000.,\n",
       "        4620000.,  3570000.,  5040000.,  3780000.,  2940000.,  7210000.,\n",
       "        2940000.,  3500000.,  8680000.,  3850000.,  3430000.,  5460000.,\n",
       "        3150000.,  5040000.,  3430000.,  3430000.,  2835000.,  3850000.,\n",
       "        4200000.,  5866000.,  6265000.,  3990000.,  3920000.,  3500000.,\n",
       "        2450000.,  4865000.,  4200000.,  4900000.,  8750000.,  6755000.,\n",
       "        4893000.,  8043000.,  3500000.,  6195000.])"
      ]
     },
     "execution_count": 55,
     "metadata": {},
     "output_type": "execute_result"
    }
   ],
   "source": [
    "pred1 = model.predict(X_train)\n",
    "pred1"
   ]
  },
  {
   "cell_type": "code",
   "execution_count": 59,
   "id": "093a8c2d",
   "metadata": {},
   "outputs": [],
   "source": [
    "from sklearn.metrics import accuracy_score,classification_report,confusion_matrix"
   ]
  },
  {
   "cell_type": "code",
   "execution_count": 61,
   "id": "61bd5e55",
   "metadata": {},
   "outputs": [
    {
     "data": {
      "text/plain": [
       "0.3623853211009174"
      ]
     },
     "execution_count": 61,
     "metadata": {},
     "output_type": "execute_result"
    }
   ],
   "source": [
    "accuracy_score(y_train,pred1)"
   ]
  },
  {
   "cell_type": "code",
   "execution_count": 62,
   "id": "1073d007",
   "metadata": {},
   "outputs": [
    {
     "data": {
      "text/plain": [
       "0.027522935779816515"
      ]
     },
     "execution_count": 62,
     "metadata": {},
     "output_type": "execute_result"
    }
   ],
   "source": [
    "accuracy_score(y_test,y_pred)"
   ]
  },
  {
   "cell_type": "code",
   "execution_count": 65,
   "id": "c3f2ab35",
   "metadata": {},
   "outputs": [
    {
     "data": {
      "text/plain": [
       "array([[0, 0, 0, ..., 0, 0, 0],\n",
       "       [0, 0, 0, ..., 0, 0, 0],\n",
       "       [0, 0, 0, ..., 0, 0, 0],\n",
       "       ...,\n",
       "       [0, 0, 0, ..., 0, 0, 0],\n",
       "       [0, 0, 0, ..., 0, 0, 0],\n",
       "       [0, 0, 0, ..., 0, 0, 0]], dtype=int64)"
      ]
     },
     "execution_count": 65,
     "metadata": {},
     "output_type": "execute_result"
    }
   ],
   "source": [
    "confusion_matrix(y_test,y_pred)"
   ]
  },
  {
   "cell_type": "code",
   "execution_count": 66,
   "id": "0becfcd7",
   "metadata": {},
   "outputs": [
    {
     "name": "stdout",
     "output_type": "stream",
     "text": [
      "              precision    recall  f1-score   support\n",
      "\n",
      "   1750000.0       0.00      0.00      0.00         1\n",
      "   1820000.0       0.00      0.00      0.00         1\n",
      "   1890000.0       0.00      0.00      0.00         2\n",
      "   2100000.0       0.00      0.00      0.00         1\n",
      "   2233000.0       0.00      0.00      0.00         1\n",
      "   2275000.0       0.00      0.00      0.00         1\n",
      "   2380000.0       0.00      0.00      0.00         1\n",
      "   2450000.0       0.00      0.00      0.00         2\n",
      "   2520000.0       0.00      0.00      0.00         1\n",
      "   2653000.0       0.00      0.00      0.00         0\n",
      "   2660000.0       0.00      0.00      0.00         4\n",
      "   2800000.0       0.00      0.00      0.00         1\n",
      "   2870000.0       0.00      0.00      0.00         1\n",
      "   2940000.0       0.00      0.00      0.00         2\n",
      "   3003000.0       0.00      0.00      0.00         1\n",
      "   3010000.0       0.00      0.00      0.00         1\n",
      "   3045000.0       0.00      0.00      0.00         1\n",
      "   3080000.0       0.00      0.00      0.00         2\n",
      "   3115000.0       0.00      0.00      0.00         0\n",
      "   3150000.0       0.00      0.00      0.00         1\n",
      "   3220000.0       0.00      0.00      0.00         1\n",
      "   3234000.0       0.00      0.00      0.00         1\n",
      "   3290000.0       0.00      0.00      0.00         1\n",
      "   3325000.0       0.00      0.00      0.00         1\n",
      "   3353000.0       0.00      0.00      0.00         1\n",
      "   3360000.0       0.00      0.00      0.00         2\n",
      "   3430000.0       0.00      0.00      0.00         0\n",
      "   3500000.0       0.00      0.00      0.00         3\n",
      "   3605000.0       0.00      0.00      0.00         0\n",
      "   3640000.0       0.00      0.00      0.00         1\n",
      "   3675000.0       0.00      0.00      0.00         1\n",
      "   3703000.0       0.00      0.00      0.00         1\n",
      "   3710000.0       0.00      0.00      0.00         1\n",
      "   3773000.0       1.00      1.00      1.00         1\n",
      "   3780000.0       0.00      0.00      0.00         1\n",
      "   3850000.0       0.00      0.00      0.00         1\n",
      "   3885000.0       0.00      0.00      0.00         0\n",
      "   3920000.0       0.00      0.00      0.00         0\n",
      "   3990000.0       0.00      0.00      0.00         0\n",
      "   4007500.0       0.00      0.00      0.00         1\n",
      "   4025000.0       0.00      0.00      0.00         0\n",
      "   4060000.0       0.00      0.00      0.00         1\n",
      "   4095000.0       0.00      0.00      0.00         0\n",
      "   4165000.0       0.00      0.00      0.00         1\n",
      "   4193000.0       0.00      0.00      0.00         2\n",
      "   4200000.0       0.00      0.00      0.00         1\n",
      "   4270000.0       0.50      1.00      0.67         1\n",
      "   4340000.0       0.17      0.25      0.20         4\n",
      "   4403000.0       0.00      0.00      0.00         0\n",
      "   4480000.0       0.00      0.00      0.00         1\n",
      "   4515000.0       0.00      0.00      0.00         0\n",
      "   4543000.0       0.00      0.00      0.00         1\n",
      "   4550000.0       0.00      0.00      0.00         2\n",
      "   4620000.0       0.00      0.00      0.00         0\n",
      "   4690000.0       0.00      0.00      0.00         1\n",
      "   4753000.0       0.00      0.00      0.00         1\n",
      "   4760000.0       0.00      0.00      0.00         0\n",
      "   4795000.0       0.00      0.00      0.00         0\n",
      "   4830000.0       0.00      0.00      0.00         1\n",
      "   4900000.0       0.00      0.00      0.00         3\n",
      "   4907000.0       0.00      0.00      0.00         1\n",
      "   4970000.0       0.00      0.00      0.00         0\n",
      "   5040000.0       0.00      0.00      0.00         0\n",
      "   5110000.0       0.00      0.00      0.00         2\n",
      "   5145000.0       0.00      0.00      0.00         1\n",
      "   5250000.0       0.00      0.00      0.00         2\n",
      "   5390000.0       0.00      0.00      0.00         0\n",
      "   5425000.0       0.00      0.00      0.00         1\n",
      "   5460000.0       0.00      0.00      0.00         0\n",
      "   5495000.0       0.00      0.00      0.00         1\n",
      "   5530000.0       0.00      0.00      0.00         2\n",
      "   5600000.0       0.00      0.00      0.00         2\n",
      "   5740000.0       0.00      0.00      0.00         2\n",
      "   5803000.0       0.00      0.00      0.00         0\n",
      "   5810000.0       0.00      0.00      0.00         1\n",
      "   5950000.0       0.00      0.00      0.00         1\n",
      "   6160000.0       0.00      0.00      0.00         0\n",
      "   6195000.0       0.00      0.00      0.00         1\n",
      "   6230000.0       0.00      0.00      0.00         1\n",
      "   6300000.0       0.00      0.00      0.00         0\n",
      "   6440000.0       0.00      0.00      0.00         2\n",
      "   6510000.0       0.00      0.00      0.00         2\n",
      "   6580000.0       0.00      0.00      0.00         1\n",
      "   6615000.0       0.00      0.00      0.00         1\n",
      "   6650000.0       0.00      0.00      0.00         5\n",
      "   6685000.0       0.00      0.00      0.00         1\n",
      "   6720000.0       0.00      0.00      0.00         1\n",
      "   6790000.0       0.00      0.00      0.00         1\n",
      "   6860000.0       0.00      0.00      0.00         1\n",
      "   6930000.0       0.00      0.00      0.00         0\n",
      "   7035000.0       0.00      0.00      0.00         1\n",
      "   7070000.0       0.00      0.00      0.00         0\n",
      "   7350000.0       0.00      0.00      0.00         2\n",
      "   7420000.0       0.00      0.00      0.00         0\n",
      "   7560000.0       0.00      0.00      0.00         0\n",
      "   7700000.0       0.00      0.00      0.00         0\n",
      "   7910000.0       0.00      0.00      0.00         1\n",
      "   8190000.0       0.00      0.00      0.00         1\n",
      "   8400000.0       0.00      0.00      0.00         1\n",
      "   8645000.0       0.00      0.00      0.00         1\n",
      "   8890000.0       0.00      0.00      0.00         1\n",
      "   9100000.0       0.00      0.00      0.00         1\n",
      "   9240000.0       0.00      0.00      0.00         0\n",
      "   9681000.0       0.00      0.00      0.00         1\n",
      "   9800000.0       0.00      0.00      0.00         2\n",
      "  10150000.0       0.00      0.00      0.00         1\n",
      "\n",
      "    accuracy                           0.03       109\n",
      "   macro avg       0.02      0.02      0.02       109\n",
      "weighted avg       0.02      0.03      0.02       109\n",
      "\n"
     ]
    },
    {
     "name": "stderr",
     "output_type": "stream",
     "text": [
      "C:\\Users\\athis\\anaconda3\\lib\\site-packages\\sklearn\\metrics\\_classification.py:1318: UndefinedMetricWarning: Precision and F-score are ill-defined and being set to 0.0 in labels with no predicted samples. Use `zero_division` parameter to control this behavior.\n",
      "  _warn_prf(average, modifier, msg_start, len(result))\n",
      "C:\\Users\\athis\\anaconda3\\lib\\site-packages\\sklearn\\metrics\\_classification.py:1318: UndefinedMetricWarning: Recall and F-score are ill-defined and being set to 0.0 in labels with no true samples. Use `zero_division` parameter to control this behavior.\n",
      "  _warn_prf(average, modifier, msg_start, len(result))\n",
      "C:\\Users\\athis\\anaconda3\\lib\\site-packages\\sklearn\\metrics\\_classification.py:1318: UndefinedMetricWarning: Precision and F-score are ill-defined and being set to 0.0 in labels with no predicted samples. Use `zero_division` parameter to control this behavior.\n",
      "  _warn_prf(average, modifier, msg_start, len(result))\n",
      "C:\\Users\\athis\\anaconda3\\lib\\site-packages\\sklearn\\metrics\\_classification.py:1318: UndefinedMetricWarning: Recall and F-score are ill-defined and being set to 0.0 in labels with no true samples. Use `zero_division` parameter to control this behavior.\n",
      "  _warn_prf(average, modifier, msg_start, len(result))\n",
      "C:\\Users\\athis\\anaconda3\\lib\\site-packages\\sklearn\\metrics\\_classification.py:1318: UndefinedMetricWarning: Precision and F-score are ill-defined and being set to 0.0 in labels with no predicted samples. Use `zero_division` parameter to control this behavior.\n",
      "  _warn_prf(average, modifier, msg_start, len(result))\n",
      "C:\\Users\\athis\\anaconda3\\lib\\site-packages\\sklearn\\metrics\\_classification.py:1318: UndefinedMetricWarning: Recall and F-score are ill-defined and being set to 0.0 in labels with no true samples. Use `zero_division` parameter to control this behavior.\n",
      "  _warn_prf(average, modifier, msg_start, len(result))\n"
     ]
    }
   ],
   "source": [
    "print(classification_report(y_test,y_pred))"
   ]
  },
  {
   "cell_type": "code",
   "execution_count": null,
   "id": "3658127f",
   "metadata": {},
   "outputs": [],
   "source": []
  }
 ],
 "metadata": {
  "kernelspec": {
   "display_name": "Python 3 (ipykernel)",
   "language": "python",
   "name": "python3"
  },
  "language_info": {
   "codemirror_mode": {
    "name": "ipython",
    "version": 3
   },
   "file_extension": ".py",
   "mimetype": "text/x-python",
   "name": "python",
   "nbconvert_exporter": "python",
   "pygments_lexer": "ipython3",
   "version": "3.9.12"
  }
 },
 "nbformat": 4,
 "nbformat_minor": 5
}
